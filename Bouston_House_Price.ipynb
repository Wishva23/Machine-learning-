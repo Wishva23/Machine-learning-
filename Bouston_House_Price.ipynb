{
  "nbformat": 4,
  "nbformat_minor": 0,
  "metadata": {
    "colab": {
      "provenance": [],
      "authorship_tag": "ABX9TyN/u5Sx4JwR6iyLlHGg3GXD",
      "include_colab_link": true
    },
    "kernelspec": {
      "name": "python3",
      "display_name": "Python 3"
    },
    "language_info": {
      "name": "python"
    }
  },
  "cells": [
    {
      "cell_type": "markdown",
      "metadata": {
        "id": "view-in-github",
        "colab_type": "text"
      },
      "source": [
        "<a href=\"https://colab.research.google.com/github/Wishva23/Machine-learning-/blob/main/Bouston_House_Price.ipynb\" target=\"_parent\"><img src=\"https://colab.research.google.com/assets/colab-badge.svg\" alt=\"Open In Colab\"/></a>"
      ]
    },
    {
      "cell_type": "markdown",
      "source": [
        "#Boston Housing Dataset\n",
        "##Predicting Median value of owner-occupied homes\n",
        "\n",
        "The aim of this assignment is to learn the application of machine learning algorithms to data sets. This involves learning what data means, how to handle data, training, cross validation, prediction, testing your model, etc.\n",
        "This dataset contains information collected by the U.S Census Service concerning housing in the area of Boston Mass. It was obtained from the StatLib archive, and has been used extensively throughout the literature to benchmark algorithms. The data was originally published by Harrison, D. and Rubinfeld, D.L. Hedonic prices and the demand for clean air', J. Environ. Economics & Management, vol.5, 81-102, 1978.\n",
        "The dataset is small in size with only 506 cases. It can be used to predict the median value of a home, which is done here. There are 14 attributes in each case of the dataset. They are:\n",
        "\n",
        "1.CRIM - per capita crime rate by town\n",
        "\n",
        "2.ZN - proportion of residential land zoned for lots over 25,000 sq.ft.\n",
        "\n",
        "3.INDUS - proportion of non-retail business acres per town.\n",
        "\n",
        "4.CHAS - Charles River dummy variable (1 if tract bounds river; 0 otherwise)\n",
        "\n",
        "5.NOX - nitric oxides concentration (parts per 10 million)\n",
        "\n",
        "6.RM - average number of rooms per dwelling\n",
        "\n",
        "7.AGE - proportion of owner-occupied units built prior to 1940\n",
        "\n",
        "8.DIS - weighted distances to five Boston employment centres\n",
        "\n",
        "9.RAD - index of accessibility to radial highways\n",
        "\n",
        "10.TAX - full-value property-tax rate per $10,000\n",
        "\n",
        "11.PTRATIO - pupil-teacher ratio by town\n",
        "\n",
        "12.B - 1000(Bk - 0.63)^2 where Bk is the proportion of blacks by town\n",
        "\n",
        "13.LSTAT - % lower status of the population\n",
        "\n",
        "14.MEDV - Median value of owner-occupied homes in $1000's\n"
      ],
      "metadata": {
        "id": "ftFr60p6wW8L"
      }
    },
    {
      "cell_type": "markdown",
      "source": [
        "##Aim\n",
        "###To implement a linear regression with regularization via gradient descent.\n",
        "###To implement gradient descent with Lp norm, for 3 different values of p in (1,2]\n",
        "###To contrast the difference between performance of linear regression Lp norm and L2 norm for these 3 different values.\n",
        "###Tally that the gradient descent for L2 gives same result as matrix inversion based solution."
      ],
      "metadata": {
        "id": "HwfGNNxH8udg"
      }
    },
    {
      "cell_type": "markdown",
      "source": [
        "#Working of Code\n",
        "###NumPy library would be required, so code begins by importing it\n",
        "###Import phi and phi_test from train and test datasets using NumPy's loadtxt function\n",
        "###Import y from train dataset using the loadtxt function\n",
        "###Concatenate coloumn of 1s to right of phi and phi_test\n",
        "###Apply min max scaling on each coloumn of phi and phi_test\n",
        "###Apply log scaling on y\n",
        "###Define a function to calculate change in error function based on phi, w and p norm\n",
        "###Make a dictionary containing filenames as keys and p as values\n",
        "###For each item in this dictionary\n",
        "###Set the w to all 0s\n",
        "###Set an appropriate value for lambda and step size\n",
        "###Calculate new value of w\n",
        "###Repeat steps until error between consecutive ws is less than threshold\n",
        "###Load values of id from test data file\n",
        "###Calculate y for test data using phi test and applying inverse log\n",
        "###Save the ids and y according to filename from dictionary\n"
      ],
      "metadata": {
        "id": "Rsy41OQMzCEr"
      }
    },
    {
      "cell_type": "code",
      "source": [
        "import numpy as np\n",
        "\n",
        "# Import phi from train data set\n",
        "phi = np.loadtxt('train1.csv', dtype='float', delimiter=',', skiprows=1,\n",
        "                 usecols=tuple(range(1, 14)))\n",
        "\n",
        "# Import y from train data set\n",
        "y = np.loadtxt('train1.csv', dtype='float', delimiter=',', skiprows=1,\n",
        "               usecols=14, ndmin=2)\n",
        "\n",
        "# Import phi_test from test data set\n",
        "phi_test = np.loadtxt('test.csv', dtype='float', delimiter=',',\n",
        "                      skiprows=1, usecols=tuple(range(1, 14)))\n",
        "\n",
        "\n",
        "# Add a cloloumn of 1s to right of phi and phi_test\n",
        "phi_test = np.concatenate((phi_test, np.ones((105, 1))), axis=1)\n",
        "phi = np.concatenate((phi, np.ones((400, 1))), axis=1)\n",
        "\n",
        "# Min Max scaling for phi and phi_test (Feature Engineering)\n",
        "for i in range(0, 13):\n",
        "    col_max = max(phi[:, i])\n",
        "    col_min = min(phi[:, i])\n",
        "    phi[:, i] = (phi[:, i] - col_min) / (col_max - col_min)\n",
        "    phi_test[:, i] = (phi_test[:, i] - col_min) / (col_max - col_min)\n",
        "\n",
        "# Log scaling on y\n",
        "y = np.log(y)\n",
        "\n",
        "\n",
        "# Function to calculate change in error function\n",
        "def delta_w(p, phi, w):\n",
        "    if p == 2:\n",
        "        deltaw = (2 * (np.dot(np.dot(np.transpose(phi), phi), w) -\n",
        "                       np.dot(np.transpose(phi), y)) +\n",
        "                  lambd * p * np.power(np.absolute(w), (p - 1)))\n",
        "    if p < 2 and p > 1:\n",
        "        deltaw = (2 * (np.dot(np.dot(np.transpose(phi), phi), w) -\n",
        "                       np.dot(np.transpose(phi), y)) +\n",
        "                  lambd * p * np.power(np.absolute(w), (p - 1)) * np.sign(w))\n",
        "    return deltaw\n",
        "\n",
        "\n",
        "# Dictionary containing filenames as keys and p as values\n",
        "filenames = {'output.csv': 2.0,\n",
        "             'output_p1.csv': 1.75,\n",
        "             'output_p2.csv': 1.5,\n",
        "             'output_p3.csv': 1.3\n",
        "             }\n",
        "\n",
        "# For each item in this dictionary\n",
        "for (fname, p) in filenames.items():\n",
        "    # Set initial w to zeros\n",
        "    w = np.zeros((14, 1))\n",
        "\n",
        "    # Hyperparameter lambda value\n",
        "    lambd = 0.2\n",
        "\n",
        "    # Maximum step size\n",
        "    t = 0.00012\n",
        "\n",
        "    # Calculate new value of w\n",
        "    w_new = w - t * delta_w(p, phi, w)\n",
        "\n",
        "    i = 0\n",
        "    # Repeat steps until error between consecutive w is less than threshold\n",
        "    while(np.linalg.norm(w_new-w) > 10 ** -10):\n",
        "        w = w_new\n",
        "        w_new = w - t * delta_w(p, phi, w)\n",
        "        i = i + 1\n",
        "\n",
        "    # Load values of id\n",
        "    id_test = np.loadtxt('test.csv', dtype='int', delimiter=',',\n",
        "                         skiprows=1, usecols=0, ndmin=2)\n",
        "\n",
        "    # Calculate y for test data\n",
        "    y_test = np.exp(np.dot(phi_test, w_new))\n",
        "\n",
        "    # Save the ids and y\n",
        "    np.savetxt(fname, np.concatenate((id_test, y_test), axis=1),\n",
        "               delimiter=',', fmt=['%d', '%f'], header='ID,MEDV', comments='')"
      ],
      "metadata": {
        "id": "US-CCYCDP7Rn"
      },
      "execution_count": null,
      "outputs": []
    }
  ]
}